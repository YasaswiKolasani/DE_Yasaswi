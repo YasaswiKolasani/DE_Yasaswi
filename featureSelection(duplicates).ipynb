{
 "cells": [
  {
   "cell_type": "code",
   "execution_count": 1,
   "metadata": {},
   "outputs": [],
   "source": [
    "import numpy as np\n",
    "import pandas as pd\n",
    "from sklearn.model_selection import train_test_split"
   ]
  },
  {
   "cell_type": "code",
   "execution_count": null,
   "metadata": {},
   "outputs": [],
   "source": [
    "data = pd.read_csv(\"link for data\")"
   ]
  },
  {
   "cell_type": "code",
   "execution_count": null,
   "metadata": {},
   "outputs": [],
   "source": [
    "# corr_matrix = data.corr()\n"
   ]
  },
  {
   "cell_type": "code",
   "execution_count": null,
   "metadata": {},
   "outputs": [],
   "source": [
    "# check the presence of missing data\n",
    "[col for col in data.columns if data[col].isnull().sum() > 0]\n",
    "X_train, X_test, y_train, y_test = train_test_split(data.drop(labels=(\"target\"), axis=1), data[\"target\"], test_size=0.33, random_state=101)"
   ]
  },
  {
   "cell_type": "code",
   "execution_count": null,
   "metadata": {},
   "outputs": [],
   "source": [
    "# {colname: duplicated column name}\n",
    "\n",
    "\n",
    "duplicated_feat_pairs = {}\n",
    "_duplicated_feat = []\n",
    "for i in range(0, len(X_train.columns)):\n",
    "    feat_1 = X_train.columns[i]\n",
    "\n",
    "    if feat_1 not in _duplicated_feat:\n",
    "        duplicated_feat_pairs[feat_1] = []\n",
    "\n",
    "        for feat_2 in X_train.columns[i+1]:\n",
    "            if(X_train[feat_1].equals(X_train[feat_2])):\n",
    "                duplicated_feat_pairs[feat_1].append(feat_2)\n",
    "                _duplicated_feat.append(feat_2)"
   ]
  }
 ],
 "metadata": {
  "kernelspec": {
   "display_name": "Python 3",
   "language": "python",
   "name": "python3"
  },
  "language_info": {
   "codemirror_mode": {
    "name": "ipython",
    "version": 3
   },
   "file_extension": ".py",
   "mimetype": "text/x-python",
   "name": "python",
   "nbconvert_exporter": "python",
   "pygments_lexer": "ipython3",
   "version": "3.11.2"
  }
 },
 "nbformat": 4,
 "nbformat_minor": 2
}
