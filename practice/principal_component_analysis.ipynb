{
  "nbformat": 4,
  "nbformat_minor": 0,
  "metadata": {
    "colab": {
      "provenance": []
    },
    "kernelspec": {
      "name": "python3",
      "display_name": "Python 3"
    },
    "language_info": {
      "name": "python"
    }
  },
  "cells": [
    {
      "cell_type": "code",
      "execution_count": null,
      "metadata": {
        "colab": {
          "base_uri": "https://localhost:8080/"
        },
        "id": "sCJ5EEqQAfUl",
        "outputId": "f30e76b4-df5c-4925-8c63-d66847d6068d"
      },
      "outputs": [
        {
          "output_type": "execute_result",
          "data": {
            "text/plain": [
              "matrix([[-2,  1,  4,  6,  5,  3,  6,  2],\n",
              "        [ 9,  3,  2, -1, -4, -2, -4,  5],\n",
              "        [ 0,  7,  5,  3,  2, -3,  4,  6]])"
            ]
          },
          "metadata": {},
          "execution_count": 1
        }
      ],
      "source": [
        "import numpy as np\n",
        "X=np.asmatrix([[-2,1,4,6,5,3,6,2],[9,3,2,-1,-4,-2,-4,5],[0,7,5,3,2,-3,4,6]])\n",
        "X\n",
        "#This is the data given"
      ]
    },
    {
      "cell_type": "markdown",
      "source": [
        "Calculation of mean with Built In function"
      ],
      "metadata": {
        "id": "WBc7SLYexj-X"
      }
    },
    {
      "cell_type": "code",
      "source": [
        "Mean_1 = np.mean(X, axis=1)\n",
        "Mean_1"
      ],
      "metadata": {
        "colab": {
          "base_uri": "https://localhost:8080/"
        },
        "id": "tmVVD19xHWL_",
        "outputId": "93419b8b-500d-4953-d528-7df68bf3644b"
      },
      "execution_count": null,
      "outputs": [
        {
          "output_type": "execute_result",
          "data": {
            "text/plain": [
              "matrix([[3.125],\n",
              "        [1.   ],\n",
              "        [3.   ]])"
            ]
          },
          "metadata": {},
          "execution_count": 2
        }
      ]
    },
    {
      "cell_type": "markdown",
      "source": [
        "Calculation of mean with own code"
      ],
      "metadata": {
        "id": "4U9qYOOcxuMM"
      }
    },
    {
      "cell_type": "code",
      "source": [
        "unitary=np.asmatrix([1,1,1,1,1,1,1,1]).T\n",
        "Mean_2=np.dot(X,unitary)/8\n",
        "Mean_2"
      ],
      "metadata": {
        "colab": {
          "base_uri": "https://localhost:8080/"
        },
        "id": "Kik_-0-dbWmI",
        "outputId": "4086b426-3ebf-4c5e-8560-1461e09d717b"
      },
      "execution_count": null,
      "outputs": [
        {
          "output_type": "execute_result",
          "data": {
            "text/plain": [
              "matrix([[3.125],\n",
              "        [1.   ],\n",
              "        [3.   ]])"
            ]
          },
          "metadata": {},
          "execution_count": 3
        }
      ]
    },
    {
      "cell_type": "markdown",
      "source": [
        "Calculation of centered matrix using python library"
      ],
      "metadata": {
        "id": "VZKqqVzWcYAg"
      }
    },
    {
      "cell_type": "code",
      "source": [
        "X1 = X - np.mean(X, axis=1)\n",
        "X1"
      ],
      "metadata": {
        "colab": {
          "base_uri": "https://localhost:8080/"
        },
        "id": "agrZFjb-HjEL",
        "outputId": "df4dbd96-05ce-4cce-b28c-69a07337c1f1"
      },
      "execution_count": null,
      "outputs": [
        {
          "output_type": "execute_result",
          "data": {
            "text/plain": [
              "matrix([[-5.125, -2.125,  0.875,  2.875,  1.875, -0.125,  2.875, -1.125],\n",
              "        [ 8.   ,  2.   ,  1.   , -2.   , -5.   , -3.   , -5.   ,  4.   ],\n",
              "        [-3.   ,  4.   ,  2.   ,  0.   , -1.   , -6.   ,  1.   ,  3.   ]])"
            ]
          },
          "metadata": {},
          "execution_count": 4
        }
      ]
    },
    {
      "cell_type": "markdown",
      "source": [
        "Calculation of centered matrix by Own code"
      ],
      "metadata": {
        "id": "U8l4qxjEdEjn"
      }
    },
    {
      "cell_type": "code",
      "source": [
        "unitary=np.asmatrix([1,1,1,1,1,1,1,1]).T\n",
        "(X-(np.dot(X,unitary)/8))"
      ],
      "metadata": {
        "colab": {
          "base_uri": "https://localhost:8080/"
        },
        "id": "2zRp1ublKJmG",
        "outputId": "da6acf26-4f83-4724-b30d-faa9e8594c40"
      },
      "execution_count": null,
      "outputs": [
        {
          "output_type": "execute_result",
          "data": {
            "text/plain": [
              "matrix([[-5.125, -2.125,  0.875,  2.875,  1.875, -0.125,  2.875, -1.125],\n",
              "        [ 8.   ,  2.   ,  1.   , -2.   , -5.   , -3.   , -5.   ,  4.   ],\n",
              "        [-3.   ,  4.   ,  2.   ,  0.   , -1.   , -6.   ,  1.   ,  3.   ]])"
            ]
          },
          "metadata": {},
          "execution_count": 5
        }
      ]
    },
    {
      "cell_type": "markdown",
      "source": [
        "Calculation of covariance matrix using python library"
      ],
      "metadata": {
        "id": "RWXMBCuyqH6S"
      }
    },
    {
      "cell_type": "code",
      "source": [
        "C=np.cov(X1)\n",
        "C"
      ],
      "metadata": {
        "colab": {
          "base_uri": "https://localhost:8080/"
        },
        "id": "PQTsm7fsqIb6",
        "outputId": "8178413e-7c9e-45cb-943a-5b799afe3d6e"
      },
      "execution_count": null,
      "outputs": [
        {
          "output_type": "execute_result",
          "data": {
            "text/plain": [
              "array([[  7.55357143, -11.14285714,   1.        ],\n",
              "       [-11.14285714,  21.14285714,   2.28571429],\n",
              "       [  1.        ,   2.28571429,  10.85714286]])"
            ]
          },
          "metadata": {},
          "execution_count": 6
        }
      ]
    },
    {
      "cell_type": "markdown",
      "source": [
        "Calculation of Covariance Matrix using own code"
      ],
      "metadata": {
        "id": "sL1hv1ZWqhkG"
      }
    },
    {
      "cell_type": "code",
      "source": [
        "avg = []\n",
        "X1=np.asarray(X1)\n",
        "cov = np.zeros((3,3))\n",
        "for i in range(3):\n",
        "    for j in range(3):\n",
        "        var = 0\n",
        "        for d in X1.T:\n",
        "            var += (d[i]) * (d[j])\n",
        "        var /= (7)\n",
        "        cov[i, j] = var\n",
        "cov"
      ],
      "metadata": {
        "colab": {
          "base_uri": "https://localhost:8080/"
        },
        "id": "m7e82DnNr0CP",
        "outputId": "99d16a0a-a01a-487e-e07c-d18569fc3b58"
      },
      "execution_count": null,
      "outputs": [
        {
          "output_type": "execute_result",
          "data": {
            "text/plain": [
              "array([[  7.55357143, -11.14285714,   1.        ],\n",
              "       [-11.14285714,  21.14285714,   2.28571429],\n",
              "       [  1.        ,   2.28571429,  10.85714286]])"
            ]
          },
          "metadata": {},
          "execution_count": 7
        }
      ]
    },
    {
      "cell_type": "markdown",
      "source": [
        "Computation of first principal component using python library"
      ],
      "metadata": {
        "id": "uD7DrW45s_Z1"
      }
    },
    {
      "cell_type": "code",
      "source": [
        "from sklearn.decomposition import PCA\n",
        "import pandas as pd\n",
        "import warnings\n",
        "warnings.filterwarnings('ignore')\n",
        "pca = PCA(n_components=3)\n",
        "pca.fit_transform(X.T)\n",
        "print(\"Maximum eigen value: \")\n",
        "print(max(pca.explained_variance_))\n",
        "print(\"First principal component: \")\n",
        "print(pca.components_[0])\n",
        "#Printing the first principal component"
      ],
      "metadata": {
        "id": "5NeQNiXWGCVB",
        "colab": {
          "base_uri": "https://localhost:8080/"
        },
        "outputId": "436a88e8-563c-4826-fd59-be57e40323c9"
      },
      "execution_count": null,
      "outputs": [
        {
          "output_type": "stream",
          "name": "stdout",
          "text": [
            "Maximum eigen value: \n",
            "27.536048126623335\n",
            "First principal component: \n",
            "[-0.4815633   0.87171689  0.09058943]\n"
          ]
        }
      ]
    },
    {
      "cell_type": "markdown",
      "source": [
        "Computation of first principal component and principal value using own code"
      ],
      "metadata": {
        "id": "XlpXzKUdM7qS"
      }
    },
    {
      "cell_type": "code",
      "source": [
        "#Compute eigen values and eigen vectors\n",
        "W,V=np.linalg.eig(cov)\n",
        "#Sort eigen vectors with respect to sorted eigen values\n",
        "indices=np.argsort(W)\n",
        "W=[W[i] for i in indices][::-1]\n",
        "V=V.T\n",
        "V=[V[i] for i in indices][::-1]\n",
        "V=np.array(V)\n",
        "print(\"Eigen values are: \")\n",
        "print(W)\n",
        "print(\"Principal components are: \")\n",
        "print(V)\n",
        "print(\"Largest Eigen value is: \")\n",
        "print(max(W))\n",
        "print(\"First Principal component is: \")\n",
        "print(V[W.index(max(W))])"
      ],
      "metadata": {
        "colab": {
          "base_uri": "https://localhost:8080/"
        },
        "id": "K13RqNWEsAah",
        "outputId": "05ad2800-0d0b-4ad2-a3dc-49ccfef30c5e"
      },
      "execution_count": null,
      "outputs": [
        {
          "output_type": "stream",
          "name": "stdout",
          "text": [
            "Eigen values are: \n",
            "[27.536048126623346, 11.121761314876663, 0.8957619870714342]\n",
            "Principal components are: \n",
            "[[-0.4815633   0.87171689  0.09058943]\n",
            " [ 0.21661875  0.01823134  0.97608603]\n",
            " [ 0.84921912  0.48967058 -0.19760977]]\n",
            "Largest Eigen value is: \n",
            "27.536048126623346\n",
            "First Principal component is: \n",
            "[-0.4815633   0.87171689  0.09058943]\n"
          ]
        }
      ]
    },
    {
      "cell_type": "markdown",
      "source": [
        "Computation of best 1D representation of data matrix using python library"
      ],
      "metadata": {
        "id": "sx3qTpQW69Qc"
      }
    },
    {
      "cell_type": "code",
      "source": [
        "from sklearn.decomposition import PCA\n",
        "import pandas as pd\n",
        "import warnings\n",
        "warnings.filterwarnings('ignore')\n",
        "pca = PCA(n_components=3)\n",
        "k=pca.fit_transform(X.T)\n",
        "print(\"1D representation of matrix: \")\n",
        "print(k.T[0])\n",
        "#1D representation of data (Projected data)"
      ],
      "metadata": {
        "colab": {
          "base_uri": "https://localhost:8080/"
        },
        "id": "OtcomPyA63dc",
        "outputId": "5dc2a84f-8a9c-4be0-933a-21712b7afe61"
      },
      "execution_count": null,
      "outputs": [
        {
          "output_type": "stream",
          "name": "stdout",
          "text": [
            "1D representation of matrix: \n",
            "[ 9.16997879  3.12911351  0.63152786 -3.12792827 -5.35210509 -3.09849183\n",
            " -5.65248953  4.30039457]\n"
          ]
        }
      ]
    },
    {
      "cell_type": "markdown",
      "source": [
        "Computation of best 1D representation of data matrix using Own code"
      ],
      "metadata": {
        "id": "EmswnpU372fZ"
      }
    },
    {
      "cell_type": "code",
      "source": [
        "print(\"Add back mean: \")\n",
        "print((k.T+Mean_1)[0])"
      ],
      "metadata": {
        "colab": {
          "base_uri": "https://localhost:8080/"
        },
        "id": "GGW8yNbUeAqA",
        "outputId": "827561cb-29d7-4f6e-eaaa-161018e5df72"
      },
      "execution_count": null,
      "outputs": [
        {
          "output_type": "stream",
          "name": "stdout",
          "text": [
            "Add back mean: \n",
            "[[ 1.22949788e+01  6.25411351e+00  3.75652786e+00 -2.92827459e-03\n",
            "  -2.22710509e+00  2.65081696e-02 -2.52748953e+00  7.42539457e+00]]\n"
          ]
        }
      ]
    },
    {
      "cell_type": "code",
      "source": [
        "W,V=np.linalg.eig(cov)\n",
        "indices=np.argsort(W)\n",
        "W=[W[i] for i in indices][::-1]\n",
        "V=V.T\n",
        "V=[V[i] for i in indices][::-1]\n",
        "V=np.array(V)\n",
        "projected_data = np.dot(V,X1).T\n",
        "projected_data.T[0]\n",
        "#1D representation of data (Projected data)"
      ],
      "metadata": {
        "colab": {
          "base_uri": "https://localhost:8080/"
        },
        "id": "GJV9beuP78KA",
        "outputId": "76cecd55-1077-4ec2-d76f-a6ce563fb6e7"
      },
      "execution_count": null,
      "outputs": [
        {
          "output_type": "execute_result",
          "data": {
            "text/plain": [
              "array([ 9.16997879,  3.12911351,  0.63152786, -3.12792827, -5.35210509,\n",
              "       -3.09849183, -5.65248953,  4.30039457])"
            ]
          },
          "metadata": {},
          "execution_count": 12
        }
      ]
    },
    {
      "cell_type": "code",
      "source": [
        "print(\"Add back mean: \")\n",
        "print((projected_data.T+Mean_2)[0])"
      ],
      "metadata": {
        "colab": {
          "base_uri": "https://localhost:8080/"
        },
        "id": "KehgneHKdh8t",
        "outputId": "76e47250-a420-4741-de14-f8ce65c71423"
      },
      "execution_count": null,
      "outputs": [
        {
          "output_type": "stream",
          "name": "stdout",
          "text": [
            "Add back mean: \n",
            "[[ 1.22949788e+01  6.25411351e+00  3.75652786e+00 -2.92827459e-03\n",
            "  -2.22710509e+00  2.65081696e-02 -2.52748953e+00  7.42539457e+00]]\n"
          ]
        }
      ]
    },
    {
      "cell_type": "markdown",
      "source": [
        "Implementation of My PCA"
      ],
      "metadata": {
        "id": "kgLKoEc8YtvT"
      }
    },
    {
      "cell_type": "code",
      "source": [
        "import pandas as pd\n",
        "import warnings\n",
        "import numpy as np\n",
        "def mypca(X,k):\n",
        "  unitary=np.asmatrix([1,1,1,1,1,1,1,1]).T\n",
        "  mean=np.dot(X,unitary)/8\n",
        "  X1=(X-mean)\n",
        "  avg=[]\n",
        "  X1=np.asarray(X1)\n",
        "  cov=np.zeros((k,k))\n",
        "  for i in range(k):\n",
        "    for j in range(k):\n",
        "        temp=0\n",
        "        for d in X1.T:\n",
        "            temp+=d[i]*d[j]\n",
        "        temp/=7\n",
        "        cov[i,j]=temp\n",
        "  eigval,eigvec=np.linalg.eig(cov)\n",
        "  indices=np.argsort(eigval)\n",
        "  eigval=[eigval[i] for i in indices][::-1]\n",
        "  eigvec=eigvec.T\n",
        "  eigvec=[eigvec[i] for i in indices][::-1]\n",
        "  eigvec=np.array(eigvec)\n",
        "  projected_data=np.dot(eigvec,X1).T\n",
        "  return projected_data,eigvec,eigval\n",
        "[rep,pc,pv]=mypca(X,3)\n",
        "print(\"Data representation:\")\n",
        "print(rep)\n",
        "print(\"Principal components:\")\n",
        "print(pc)\n",
        "print(\"Principal values:\")\n",
        "print(pv)"
      ],
      "metadata": {
        "colab": {
          "base_uri": "https://localhost:8080/"
        },
        "id": "vJdS4V2RYwFI",
        "outputId": "a73e97d8-faaf-4421-a37b-df66f77b10e3"
      },
      "execution_count": null,
      "outputs": [
        {
          "output_type": "stream",
          "name": "stdout",
          "text": [
            "Data representation:\n",
            "[[ 9.16997879 -3.89257847  0.15794594]\n",
            " [ 3.12911351  3.48049195 -1.61568853]\n",
            " [ 0.63152786  2.1599448   0.83751777]\n",
            " [-3.12792827  0.58631623  1.46216381]\n",
            " [-5.35210509 -0.66108257 -0.65845727]\n",
            " [-3.09849183 -5.93828753 -0.38950552]\n",
            " [-5.65248953  1.50770824 -0.20445769]\n",
            " [ 4.30039457  2.75748735  0.4104815 ]]\n",
            "Principal components:\n",
            "[[-0.4815633   0.87171689  0.09058943]\n",
            " [ 0.21661875  0.01823134  0.97608603]\n",
            " [ 0.84921912  0.48967058 -0.19760977]]\n",
            "Principal values:\n",
            "[27.536048126623346, 11.121761314876663, 0.8957619870714342]\n"
          ]
        }
      ]
    },
    {
      "cell_type": "markdown",
      "source": [
        "Computation of principal components using inbuilt PCA"
      ],
      "metadata": {
        "id": "EKnk76KsuddO"
      }
    },
    {
      "cell_type": "code",
      "source": [
        "from sklearn.decomposition import PCA\n",
        "import pandas as pd\n",
        "import warnings\n",
        "warnings.filterwarnings('ignore')\n",
        "pca = PCA(n_components=3)\n",
        "k=pca.fit_transform(X.T)\n",
        "pri = pd.DataFrame(data = k, columns = ['principal component 1', 'principal component 2', 'principal component 3'])\n",
        "print(\"Data Representtion:\")\n",
        "print(pri)\n",
        "print(\"Principal components:\")\n",
        "print(pca.components_)\n",
        "print(\"Principal values:\")\n",
        "print(pca.explained_variance_)"
      ],
      "metadata": {
        "id": "Fy1Ssb98vXEt",
        "colab": {
          "base_uri": "https://localhost:8080/"
        },
        "outputId": "2ccaca66-5459-4eb5-af4d-b6d674b562b9"
      },
      "execution_count": null,
      "outputs": [
        {
          "output_type": "stream",
          "name": "stdout",
          "text": [
            "Data Representtion:\n",
            "   principal component 1  principal component 2  principal component 3\n",
            "0               9.169979               3.892578              -0.157946\n",
            "1               3.129114              -3.480492               1.615689\n",
            "2               0.631528              -2.159945              -0.837518\n",
            "3              -3.127928              -0.586316              -1.462164\n",
            "4              -5.352105               0.661083               0.658457\n",
            "5              -3.098492               5.938288               0.389506\n",
            "6              -5.652490              -1.507708               0.204458\n",
            "7               4.300395              -2.757487              -0.410482\n",
            "Principal components:\n",
            "[[-0.4815633   0.87171689  0.09058943]\n",
            " [-0.21661875 -0.01823134 -0.97608603]\n",
            " [-0.84921912 -0.48967058  0.19760977]]\n",
            "Principal values:\n",
            "[27.53604813 11.12176131  0.89576199]\n"
          ]
        }
      ]
    },
    {
      "cell_type": "code",
      "source": [],
      "metadata": {
        "id": "7EkLIoneeBc6"
      },
      "execution_count": null,
      "outputs": []
    }
  ]
}